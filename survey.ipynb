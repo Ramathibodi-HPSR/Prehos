{
 "cells": [
  {
   "cell_type": "code",
   "execution_count": 1,
   "metadata": {},
   "outputs": [],
   "source": [
    "%load_ext autoreload\n",
    "%autoreload 2\n",
    "\n",
    "import pandas as pd\n",
    "from scripts import process\n",
    "from scripts import analyse"
   ]
  },
  {
   "cell_type": "code",
   "execution_count": 2,
   "metadata": {},
   "outputs": [
    {
     "name": "stdout",
     "output_type": "stream",
     "text": [
      "File name                : survey\n",
      "Path to data dictionary  : data/SURVEY/data_dict-survey.xlsx\n",
      "Path to cleaned dataset  : output/survey_cleaned.csv\n"
     ]
    }
   ],
   "source": [
    "file_name = 'survey'\n",
    "data_dir = 'data/SURVEY'\n",
    "output_dir = 'output'\n",
    "\n",
    "df, df_raw, dict_path = process.clean(file_name, data_dir, output_dir)"
   ]
  },
  {
   "cell_type": "markdown",
   "metadata": {},
   "source": [
    "Validity Test"
   ]
  },
  {
   "cell_type": "code",
   "execution_count": 3,
   "metadata": {},
   "outputs": [],
   "source": [
    "test_df = df[df['prov'] == 'รพ.นพรัตน์']\n",
    "questions = [\n",
    "    '1669_dur', '1669_suggestion', '1669_rating',\n",
    "    'amb_notify', 'amb_suggestion', 'amb_clean', 'amb_engagement', \n",
    "    'amb_rating_safety', 'amb_rating_tools', 'amb_rating_firstaid', 'amb_rating_inform', 'amb_rating_polite', 'amb_rating_driving', 'amb_rating_overall', \n",
    "    'er_rating', 'er_trust', 'er_notify', 'er_help', 'er_inform', 'er_cause', 'er_result', 'er_recover',\n",
    "    'walkin_reason', 'ems_trust'\n",
    "    ]\n",
    "\n",
    "filtered_questionnaire = test_df[questions]\n",
    "filtered_questionnaire_encoded = filtered_questionnaire.apply(lambda x: pd.factorize(x)[0])\n",
    "\n",
    "cronbach_alpha_value = analyse.cronbach_alpha(filtered_questionnaire_encoded)"
   ]
  },
  {
   "cell_type": "markdown",
   "metadata": {},
   "source": [
    "Cronbach's alpha = {cronbach_alpha_value}"
   ]
  },
  {
   "cell_type": "markdown",
   "metadata": {},
   "source": [
    "Analysis"
   ]
  },
  {
   "cell_type": "code",
   "execution_count": 4,
   "metadata": {},
   "outputs": [],
   "source": [
    "columns = pd.read_excel(dict_path, sheet_name=\"validate\")\n",
    "\n",
    "for _, row in columns.iterrows():\n",
    "    col = row['Column Name']\n",
    "    data_type = row['Data Type']\n",
    "    map = row['Map']\n",
    "    min = row['Min']\n",
    "    \n",
    "    if data_type == 'object' and map == True:\n",
    "        df = process.mapping(df, col)\n",
    "    elif data_type in ['float64', 'timedelta64[ns]']:\n",
    "        if pd.notna(min):\n",
    "            df[col] = df[col].apply(lambda x: x if x >= min else None)\n",
    "        df = process.outlier_percentile(df, col, percentile=99, direction='more than')\n",
    "\n",
    "from datetime import datetime    \n",
    "shift_time = lambda x: ('night' if x < 8 else 'morning' if x < 16 else 'afternoon')\n",
    "df['shift'] = df['time_hos'].apply(lambda x: shift_time(datetime.strptime(x, '%I:%M:%S %p').hour) if pd.notna(x) else None)\n",
    "\n",
    "df['health_score'] = df.apply(lambda row: \n",
    "    (1 - (row['health_walk'] + row['health_self'] + row['health_act'] + row['health_pain'] + row['health_depress'])), \n",
    "    axis=1)\n",
    "\n",
    "df_survey = df.copy()"
   ]
  },
  {
   "cell_type": "code",
   "execution_count": 5,
   "metadata": {},
   "outputs": [],
   "source": [
    "df_analyse = df_survey.copy()\n",
    "\n",
    "df_analyse = df_analyse[(df_analyse['prov'] != 'รพ.นพรัตน์') & (df_analyse['triage_er'].isin(['แดง', 'เหลือง']))]\n",
    "\n",
    "prov_transfer = ['รพ.แพร่', 'รพ.มหาสารคาม', 'รพ.เจ้าพระยายมราช', 'รพ.สงขลา']\n",
    "\n",
    "df_analyse['transfer'] = df_analyse['prov'].apply(lambda x:'yes' if x in prov_transfer else 'no')\n",
    "df_analyse['age_gr'] = df_analyse['age'].apply(lambda x: '> 60' if x > 60 else '<= 60')"
   ]
  },
  {
   "cell_type": "code",
   "execution_count": 6,
   "metadata": {},
   "outputs": [
    {
     "name": "stdout",
     "output_type": "stream",
     "text": [
      "Survey: Table 1\n",
      "Testing for age using Mann-Whitney U\n",
      "Characteristics    Total          yes            no             p-value\n",
      "-----------------  -------------  -------------  -------------  ---------\n",
      "group                                                           0.00\n",
      "WALKIN             209            110            99\n",
      "                   (47.50%)       (56.12%)       (40.57%)\n",
      "EMS                231            86             145\n",
      "                   (52.50%)       (43.88%)       (59.43%)\n",
      "age                54.00          53.00          55.00          0.49\n",
      "                   (30.75-70.00)  (28.75-70.00)  (32.00-70.25)\n",
      "gender                                                          0.00\n",
      "หญิง                210            109            101\n",
      "                   (47.73%)       (55.61%)       (41.39%)\n",
      "ชาย                230            87             143\n",
      "                   (52.27%)       (44.39%)       (58.61%)\n",
      "nationality                                                     0.20\n",
      "Thai               436            196            240\n",
      "                   (99.09%)       (100.00%)      (98.36%)\n",
      "non-Thai           4              0              4\n",
      "                   (0.91%)        (0.00%)        (1.64%)\n",
      "inscl                                                           0.38\n",
      "UCS                300            135            165\n",
      "                   (68.18%)       (68.88%)       (67.62%)\n",
      "CSMBS              44             17             27\n",
      "                   (10.00%)       (8.67%)        (11.07%)\n",
      "SSS                34             15             19\n",
      "                   (7.73%)        (7.65%)        (7.79%)\n",
      "Other              5              3              2\n",
      "                   (1.14%)        (1.53%)        (0.82%)\n",
      "ACC                49             25             24\n",
      "                   (11.14%)       (12.76%)       (9.84%)\n",
      "OOP                8              1              7\n",
      "                   (1.82%)        (0.51%)        (2.87%)\n",
      "shift                                                           0.00\n",
      "night              77             48             29\n",
      "                   (30.31%)       (44.04%)       (20.00%)\n",
      "afternoon          97             37             60\n",
      "                   (38.19%)       (33.94%)       (41.38%)\n",
      "morning            80             24             56\n",
      "                   (31.50%)       (22.02%)       (38.62%)\n",
      "trauma                                                          0.98\n",
      "non-trauma         356            158            198\n",
      "                   (80.91%)       (80.61%)       (81.15%)\n",
      "trauma             84             38             46\n",
      "                   (19.09%)       (19.39%)       (18.85%)\n"
     ]
    }
   ],
   "source": [
    "group_by = 'transfer'\n",
    "\n",
    "table_name = 'Survey: Table 1'\n",
    "parameters = ['group', 'age', 'gender', 'nationality', 'inscl', 'shift', 'trauma']\n",
    "analyse.describe(df_analyse, parameters, group_by, overall=True, bootstrap=False, table_name=table_name)"
   ]
  },
  {
   "cell_type": "code",
   "execution_count": 7,
   "metadata": {},
   "outputs": [
    {
     "name": "stdout",
     "output_type": "stream",
     "text": [
      "Survey: Table 2\n",
      "Testing for health_score using Mann-Whitney U\n",
      "Characteristics       Total        yes          no           p-value\n",
      "--------------------  -----------  -----------  -----------  ---------\n",
      "health_er                                                    0.44\n",
      "1-2 ครั้ง               118          57           61\n",
      "                      (27.57%)     (29.69%)     (25.85%)\n",
      "ไม่เคย                 195          81           114\n",
      "                      (45.56%)     (42.19%)     (48.31%)\n",
      "มากกว่าหรือเท่ากับ 3 ครั้ง  115          54           61\n",
      "                      (26.87%)     (28.12%)     (25.85%)\n",
      "health_ems                                                   0.29\n",
      "ไม่เคย                 309          132          177\n",
      "                      (71.03%)     (67.35%)     (74.06%)\n",
      "1-2 ครั้ง               65           34           31\n",
      "                      (14.94%)     (17.35%)     (12.97%)\n",
      "มากกว่าหรือเท่ากับ 3 ครั้ง  61           30           31\n",
      "                      (14.02%)     (15.31%)     (12.97%)\n",
      "health_chronic                                               0.79\n",
      "CHRONIC               216          102          114\n",
      "                      (53.60%)     (55.43%)     (52.05%)\n",
      "NO                    173          76           97\n",
      "                      (42.93%)     (41.30%)     (44.29%)\n",
      "DISABILITY            14           6            8\n",
      "                      (3.47%)      (3.26%)      (3.65%)\n",
      "health_score          0.90         0.90         0.90         0.90\n",
      "                      (0.69-1.00)  (0.75-1.00)  (0.62-1.00)\n"
     ]
    }
   ],
   "source": [
    "group_by = 'transfer'\n",
    "\n",
    "table_name = 'Survey: Table 2'\n",
    "parameters = ['health_er', 'health_ems', 'health_chronic', 'health_score']\n",
    "analyse.describe(df_analyse, parameters, group_by, overall=True, bootstrap=False, table_name=table_name)"
   ]
  },
  {
   "cell_type": "code",
   "execution_count": 8,
   "metadata": {},
   "outputs": [
    {
     "name": "stdout",
     "output_type": "stream",
     "text": [
      "Survey: Table 3\n",
      "Testing for 1669_rating using Mann-Whitney U\n",
      "Characteristics    Total        yes          no           p-value\n",
      "-----------------  -----------  -----------  -----------  ---------\n",
      "1669_dur                                                  0.00\n",
      "ต่อสายได้ทันที         117          25           92\n",
      "                   (75.97%)     (42.37%)     (96.84%)\n",
      "รอโอนสาย           37           34           3\n",
      "                   (24.03%)     (57.63%)     (3.16%)\n",
      "1669_suggestion                                           0.33\n",
      "ได้รับคำแนะนำ        136          50           86\n",
      "                   (90.07%)     (86.21%)     (92.47%)\n",
      "ไม่ได้รับคำแนะนำ      15           8            7\n",
      "                   (9.93%)      (13.79%)     (7.53%)\n",
      "1669_rating        5.00         5.00         5.00         0.07\n",
      "                   (5.00-6.00)  (5.00-6.00)  (5.00-6.00)\n"
     ]
    }
   ],
   "source": [
    "group_by = 'transfer'\n",
    "\n",
    "table_name = 'Survey: Table 3'\n",
    "parameters = ['1669_dur', '1669_suggestion', '1669_rating']\n",
    "analyse.describe(df_analyse, parameters, group_by, overall=True, bootstrap=False, table_name=table_name)"
   ]
  },
  {
   "cell_type": "code",
   "execution_count": 9,
   "metadata": {},
   "outputs": [
    {
     "name": "stdout",
     "output_type": "stream",
     "text": [
      "Survey: Table 4\n",
      "Testing for amb_clean using Mann-Whitney U\n",
      "Testing for amb_rating_safety using Mann-Whitney U\n",
      "Testing for amb_rating_tools using Mann-Whitney U\n",
      "Testing for amb_rating_firstaid using Mann-Whitney U\n",
      "Testing for amb_rating_inform using Mann-Whitney U\n",
      "Testing for amb_rating_polite using Mann-Whitney U\n",
      "Testing for amb_rating_driving using Mann-Whitney U\n",
      "Testing for amb_rating_overall using Mann-Whitney U\n",
      "Characteristics      Total        yes          no           p-value\n",
      "-------------------  -----------  -----------  -----------  ---------\n",
      "amb_notify                                                  0.20\n",
      "มาตามเวลาที่แจ้ง        164          61           103\n",
      "                     (79.61%)     (74.39%)     (83.06%)\n",
      "ไม่ได้รับการแจ้ง         17           10           7\n",
      "                     (8.25%)      (12.20%)     (5.65%)\n",
      "มาช้ากว่าเวลาที่แจ้ง      25           11           14\n",
      "                     (12.14%)     (13.41%)     (11.29%)\n",
      "amb_suggestion                                              1.00\n",
      "ได้รับคำแนะนำ          191          78           113\n",
      "                     (94.55%)     (95.12%)     (94.17%)\n",
      "ไม่ได้รับคำแนะนำ        11           4            7\n",
      "                     (5.45%)      (4.88%)      (5.83%)\n",
      "amb_clean            4.00         4.00         4.00         0.39\n",
      "                     (3.00-4.00)  (3.00-4.00)  (3.00-4.00)\n",
      "amb_engagement                                              0.23\n",
      "มีส่วนร่วม              186          77           109\n",
      "                     (93.00%)     (96.25%)     (90.83%)\n",
      "ไม่มีส่วนร่วม            14           3            11\n",
      "                     (7.00%)      (3.75%)      (9.17%)\n",
      "amb_rating_safety    4.00         4.50         4.00         0.22\n",
      "                     (4.00-5.00)  (4.00-5.00)  (4.00-5.00)\n",
      "amb_rating_tools     4.00         4.00         4.50         0.69\n",
      "                     (4.00-5.00)  (4.00-5.00)  (4.00-5.00)\n",
      "amb_rating_firstaid  4.00         4.00         5.00         0.54\n",
      "                     (4.00-5.00)  (4.00-5.00)  (4.00-5.00)\n",
      "amb_rating_inform    4.00         4.00         4.00         0.44\n",
      "                     (4.00-5.00)  (4.00-5.00)  (4.00-5.00)\n",
      "amb_rating_polite    5.00         5.00         5.00         0.11\n",
      "                     (4.00-5.00)  (4.00-5.00)  (4.00-5.00)\n",
      "amb_rating_driving   4.00         5.00         4.00         0.37\n",
      "                     (4.00-5.00)  (4.00-5.00)  (4.00-5.00)\n",
      "amb_rating_overall   4.00         5.00         4.00         0.26\n",
      "                     (4.00-5.00)  (4.00-5.00)  (4.00-5.00)\n"
     ]
    }
   ],
   "source": [
    "group_by = 'transfer'\n",
    "\n",
    "table_name = 'Survey: Table 4'\n",
    "parameters = ['amb_notify', 'amb_suggestion', 'amb_clean', 'amb_engagement', 'amb_rating_safety', 'amb_rating_tools', 'amb_rating_firstaid', 'amb_rating_inform', 'amb_rating_polite', 'amb_rating_driving', 'amb_rating_overall']\n",
    "analyse.describe(df_analyse, parameters, group_by, overall=True, bootstrap=False, table_name=table_name)"
   ]
  },
  {
   "cell_type": "code",
   "execution_count": 11,
   "metadata": {},
   "outputs": [
    {
     "name": "stdout",
     "output_type": "stream",
     "text": [
      "Survey: Table 5\n",
      "Testing for er_rating using Mann-Whitney U\n",
      "Characteristics    Total        yes          no           p-value\n",
      "-----------------  -----------  -----------  -----------  ---------\n",
      "er_rating          5.00         5.00         5.00         0.00\n",
      "                   (5.00-6.00)  (5.00-6.00)  (5.00-6.00)\n",
      "er_trust                                                  0.05\n",
      "เลือกใช้บริการ        415          191          224\n",
      "                   (98.81%)     (97.45%)     (100.00%)\n",
      "ไม่เลือกใช้บริการ      5            5            0\n",
      "                   (1.19%)      (2.55%)      (0.00%)\n",
      "er_notify                                                 0.82\n",
      "มี                  331          153          178\n",
      "                   (78.81%)     (78.06%)     (79.46%)\n",
      "ไม่มี                89           43           46\n",
      "                   (21.19%)     (21.94%)     (20.54%)\n",
      "er_help                                                   0.02\n",
      "ไม่มี                233          121          112\n",
      "                   (55.48%)     (61.73%)     (50.00%)\n",
      "มี                  187          75           112\n",
      "                   (44.52%)     (38.27%)     (50.00%)\n",
      "er_inform                                                 0.13\n",
      "มี                  372          179          193\n",
      "                   (88.57%)     (91.33%)     (86.16%)\n",
      "ไม่มี                48           17           31\n",
      "                   (11.43%)     (8.67%)      (13.84%)\n",
      "er_cause                                                  0.39\n",
      "มี                  379          180          199\n",
      "                   (90.24%)     (91.84%)     (88.84%)\n",
      "ไม่มี                41           16           25\n",
      "                   (9.76%)      (8.16%)      (11.16%)\n",
      "er_result                                                 0.12\n",
      "มี                  386          185          201\n",
      "                   (91.90%)     (94.39%)     (89.73%)\n",
      "ไม่มี                34           11           23\n",
      "                   (8.10%)      (5.61%)      (10.27%)\n",
      "er_recover                                                0.03\n",
      "มี                  336          166          170\n",
      "                   (80.00%)     (84.69%)     (75.89%)\n",
      "ไม่มี                84           30           54\n",
      "                   (20.00%)     (15.31%)     (24.11%)\n"
     ]
    }
   ],
   "source": [
    "group_by = 'transfer'\n",
    "\n",
    "table_name = 'Survey: Table 5'\n",
    "parameters = ['er_rating', 'er_trust', 'er_notify', 'er_help', 'er_inform', 'er_cause', 'er_result', 'er_recover']\n",
    "analyse.describe(df_analyse, parameters, group_by, overall=True, bootstrap=False, table_name=table_name)"
   ]
  },
  {
   "cell_type": "code",
   "execution_count": 7,
   "metadata": {},
   "outputs": [
    {
     "name": "stdout",
     "output_type": "stream",
     "text": [
      "Survey: Table 6\n",
      "Characteristics                     Total     yes       no        p-value\n",
      "----------------------------------  --------  --------  --------  ---------\n",
      "ems_trust                                                         0.01\n",
      "เลือกใช้บริการ                         344       142       202\n",
      "                                    (78.18%)  (72.45%)  (82.79%)\n",
      "ไม่เลือกใช้บริการ                       96        54        42\n",
      "                                    (21.82%)  (27.55%)  (17.21%)\n",
      "walkin_reason                                                     0.43\n",
      "ท่านคิดว่าการเดินทางมาด้วยตนเองสะดวกกว่า  122       65        57\n",
      "                                    (54.95%)  (58.56%)  (51.35%)\n",
      "ท่านคิดว่าเป็นการเจ็บป่วยเล็กน้อย           33        19        14\n",
      "                                    (14.86%)  (17.12%)  (12.61%)\n",
      "เป็นช่วงเวลาคับขันจึงไม่ได้นึกถึงรถพยาบาล    26        11        15\n",
      "                                    (11.71%)  (9.91%)   (13.51%)\n",
      "ท่านคิดว่าการใช้บริการรถฉุกเฉินมีความล่าช้า   8         3         5\n",
      "                                    (3.60%)   (2.70%)   (4.50%)\n",
      "ท่านไม่ทราบวิธีการเรียกรถพยาบาล          17        10        7\n",
      "                                    (7.66%)   (9.01%)   (6.31%)\n",
      "ท่านกังวลว่าจะมีการเสียค่าใช้จ่าย           7         2         5\n",
      "                                    (3.15%)   (1.80%)   (4.50%)\n",
      "โทรศัพท์ไม่ติด ไม่มีคนรับสาย               1         1         0\n",
      "                                    (0.45%)   (0.90%)   (0.00%)\n",
      "อยู่ใกล้                               2         0         2\n",
      "                                    (0.90%)   (0.00%)   (1.80%)\n",
      "เอารถส่วนตัวไคลินิก เลยตรงมา รพ..       1         0         1\n",
      "                                    (0.45%)   (0.00%)   (0.90%)\n",
      "มีรถมาเอง                            1         0         1\n",
      "                                    (0.45%)   (0.00%)   (0.90%)\n",
      "ไม่เคย                               1         0         1\n",
      "                                    (0.45%)   (0.00%)   (0.90%)\n",
      "อยู่ในรพ                              1         0         1\n",
      "                                    (0.45%)   (0.00%)   (0.90%)\n",
      "อยู่ที่โรงพยาบาลอยู่แล้ว                   1         0         1\n",
      "                                    (0.45%)   (0.00%)   (0.90%)\n",
      "เกรงใจ                              1         0         1\n",
      "                                    (0.45%)   (0.00%)   (0.90%)\n"
     ]
    }
   ],
   "source": [
    "group_by = 'transfer'\n",
    "\n",
    "table_name = 'Survey: Table 6'\n",
    "parameters = ['ems_trust', 'walkin_reason']\n",
    "analyse.describe(df_analyse, parameters, group_by, overall=True, bootstrap=False, table_name=table_name)"
   ]
  }
 ],
 "metadata": {
  "kernelspec": {
   "display_name": "Python 3",
   "language": "python",
   "name": "python3"
  },
  "language_info": {
   "codemirror_mode": {
    "name": "ipython",
    "version": 3
   },
   "file_extension": ".py",
   "mimetype": "text/x-python",
   "name": "python",
   "nbconvert_exporter": "python",
   "pygments_lexer": "ipython3",
   "version": "3.12.3"
  }
 },
 "nbformat": 4,
 "nbformat_minor": 2
}
